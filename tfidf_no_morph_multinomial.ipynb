{
 "cells": [
  {
   "cell_type": "code",
   "execution_count": 17,
   "metadata": {},
   "outputs": [],
   "source": [
    "# DEPENDENCIES\n",
    "import sqlite3\n",
    "import csv\n",
    "import re\n",
    "import sklearn\n",
    "from sklearn.metrics import confusion_matrix, classification_report\n",
    "from sklearn.model_selection import train_test_split\n",
    "from sklearn.naive_bayes import MultinomialNB\n",
    "import time\n",
    "import numpy as np\n",
    "import matplotlib.pyplot as plt\n",
    "# import seaborn as sns"
   ]
  },
  {
   "cell_type": "code",
   "execution_count": 18,
   "metadata": {},
   "outputs": [
    {
     "name": "stdout",
     "output_type": "stream",
     "text": [
      "1325\n"
     ]
    },
    {
     "name": "stderr",
     "output_type": "stream",
     "text": [
      "/home/balu/.local/lib/python3.8/site-packages/sklearn/feature_extraction/text.py:524: UserWarning: The parameter 'token_pattern' will not be used since 'tokenizer' is not None'\n",
      "  warnings.warn(\n"
     ]
    }
   ],
   "source": [
    "def text_preprocessing(\n",
    "    token:str,\n",
    "    punctuations = r'''!()-[]{};:‘'’\"\\,<>./?@#$%^&*_“~''')->list:\n",
    "    # print(token)\n",
    "    token = re.sub(r\"\"\"[()\\\"#/@;:.<>{}`––‘+«’%-=~|!?\"“”,']\"\"\", \"\", token)\n",
    "    token = re.sub(r'[0-9]+','',token)\n",
    "    token = re.sub(\"[A-Za-z]\",\"\",token)\n",
    "    token = re.sub(\" +\",\" \", token)\n",
    "    return token\n",
    "\n",
    "# getting embedding_dict from tfidf vectoriser with dimensions\n",
    "max_dim = 50\n",
    "from sklearn.feature_extraction.text import TfidfVectorizer\n",
    "\n",
    "# lines_with_value_1 = [\"sky sun green what blue\",\"sun yellow bright what\"]\n",
    "list_of_lines_as_strings = []\n",
    "tags_for_tfidf = []\n",
    "\n",
    "def tokenize(text:str)->list:\n",
    "    return (text.split())\n",
    "with open('/home/balu/cl2/project/datasets/telugu/telugu-dataset-rohit.csv', 'r') as total_file:\n",
    "    data = csv.reader(total_file)\n",
    "    # for i in range(1,):\n",
    "    next(data)\n",
    "    for line in (data):\n",
    "    # for (line,i) in zip(data,range(1,100,1)):\n",
    "        line_string = ''\n",
    "        for k in reversed(line):\n",
    "            if(k==''):\n",
    "                del line[-1:]\n",
    "            else:\n",
    "                break\n",
    "        i = len(line)\n",
    "        # print(line)\n",
    "        k = (line[i-2],line[i-1])\n",
    "        # print(k)\n",
    "        del line[-2:]\n",
    "        tags_for_tfidf.append(k)\n",
    "        for cell in line:\n",
    "            for token in cell:\n",
    "                processed_token = text_preprocessing(token)\n",
    "                # in case of morphology just append the root word from the dictionary\n",
    "                # if the word doesn't exist in dict then there is a reason in morphological analysis\n",
    "                # in that case just avoid it.\n",
    "                if(processed_token != ''):\n",
    "                    line_string += processed_token\n",
    "        list_of_lines_as_strings.append(line_string)\n",
    "print(len(list_of_lines_as_strings))\n",
    "y_tfidf = []\n",
    "index = 0\n",
    "count_temp = 0\n",
    "for a in tags_for_tfidf:\n",
    "    labell = a[0].strip()\n",
    "    if(labell == \"TRS\"):\n",
    "        index = 1\n",
    "    elif(labell == \"BJP\"):\n",
    "        index = 2\n",
    "    elif(labell == \"YCP\"):\n",
    "        index = 3\n",
    "    elif(labell == \"TDP\"):\n",
    "        index = 4\n",
    "    elif(labell == \"Congress\"):\n",
    "        index = 5\n",
    "    else:\n",
    "        index = 0\n",
    "    y_tfidf.append(index)\n",
    "vectoriser = TfidfVectorizer(max_features = max_dim,vocabulary = None,tokenizer = tokenize)\n",
    "tfidf_vectors_for_all_text = vectoriser.fit(list_of_lines_as_strings)\n",
    "tfidf_vectors_for_all_text = vectoriser.transform(list_of_lines_as_strings)\n",
    "# print(tfidf_vectors_for_all_text.get_shape())"
   ]
  },
  {
   "cell_type": "code",
   "execution_count": 19,
   "metadata": {},
   "outputs": [
    {
     "name": "stdout",
     "output_type": "stream",
     "text": [
      "              precision    recall  f1-score   support\n",
      "\n",
      "           0       0.54      0.68      0.60        37\n",
      "           1       0.90      0.56      0.69        32\n",
      "           2       0.70      0.61      0.65        38\n",
      "           3       0.79      0.73      0.76        75\n",
      "           4       0.52      0.75      0.62        65\n",
      "           5       1.00      0.11      0.20        18\n",
      "\n",
      "    accuracy                           0.65       265\n",
      "   macro avg       0.74      0.57      0.59       265\n",
      "weighted avg       0.70      0.65      0.64       265\n",
      "\n",
      "[[25  0  2  3  7  0]\n",
      " [ 2 18  1  1 10  0]\n",
      " [ 7  0 23  0  8  0]\n",
      " [ 3  0  0 55 17  0]\n",
      " [ 3  1  1 11 49  0]\n",
      " [ 6  1  6  0  3  2]]\n"
     ]
    }
   ],
   "source": [
    "#for tfidf\n",
    "# TRAININIG MULTINOMIAL AND TESTING IT\n",
    "import seaborn as sns\n",
    "\n",
    "def model_Evaluate(model):\n",
    "    # Predict values for Test dataset\n",
    "    y_pred = model.predict(X_test)\n",
    "    # Print the evaluation metrics for the dataset.\n",
    "    print(classification_report(y_test, y_pred))\n",
    "    # Compute and plot the Confusion matrix\n",
    "    cf_matrix = confusion_matrix(y_test, y_pred,)\n",
    "    print(cf_matrix)\n",
    "\n",
    "X_train, X_test, y_train, y_test = train_test_split(tfidf_vectors_for_all_text, y_tfidf, test_size=0.2, random_state=8)\n",
    "# print(X_test,y_test)\n",
    "BNBmodel = MultinomialNB()\n",
    "start = time.time()\n",
    "BNBmodel.fit(X_train, y_train)\n",
    "end = time.time()\n",
    "# print(\"The execution time of this model is {:.2f} seconds\\n\".format(end-start))\n",
    "model_Evaluate(BNBmodel)\n",
    "y_pred1 = BNBmodel.predict(X_test)\n"
   ]
  }
 ],
 "metadata": {
  "kernelspec": {
   "display_name": "Python 3.8.10 64-bit",
   "language": "python",
   "name": "python3"
  },
  "language_info": {
   "codemirror_mode": {
    "name": "ipython",
    "version": 3
   },
   "file_extension": ".py",
   "mimetype": "text/x-python",
   "name": "python",
   "nbconvert_exporter": "python",
   "pygments_lexer": "ipython3",
   "version": "3.8.10"
  },
  "orig_nbformat": 4,
  "vscode": {
   "interpreter": {
    "hash": "31f2aee4e71d21fbe5cf8b01ff0e069b9275f58929596ceb00d14d90e3e16cd6"
   }
  }
 },
 "nbformat": 4,
 "nbformat_minor": 2
}
